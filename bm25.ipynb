{
 "cells": [
  {
   "cell_type": "code",
   "execution_count": 1,
   "id": "efa60457",
   "metadata": {},
   "outputs": [
    {
     "name": "stderr",
     "output_type": "stream",
     "text": [
      "[nltk_data] Downloading package punkt to /home/shamim/nltk_data...\n",
      "[nltk_data]   Package punkt is already up-to-date!\n"
     ]
    },
    {
     "data": {
      "text/plain": [
       "True"
      ]
     },
     "execution_count": 1,
     "metadata": {},
     "output_type": "execute_result"
    }
   ],
   "source": [
    "import re\n",
    "\n",
    "import pandas as pd\n",
    "import numpy as np\n",
    "import nltk\n",
    "from rank_bm25 import *\n",
    "from nltk.tokenize import word_tokenize\n",
    "from nltk.stem import PorterStemmer\n",
    "from gensim.parsing.preprocessing import STOPWORDS\n",
    "from rank_eval import Qrels, Run, evaluate\n",
    "from tqdm import tqdm\n",
    "nltk.download('punkt')"
   ]
  },
  {
   "cell_type": "code",
   "execution_count": 2,
   "id": "d8da31ff",
   "metadata": {},
   "outputs": [],
   "source": [
    "def stemming(lst):\n",
    "    lst1=list()\n",
    "    ps = PorterStemmer()\n",
    "    for element in lst:\n",
    "        word_list = [ps.stem(w) for w in element.split()]\n",
    "        str_t = \" \".join(word_list)\n",
    "        lst1.append(str_t)\n",
    "    return lst1"
   ]
  },
  {
   "cell_type": "code",
   "execution_count": 3,
   "id": "520ac36b",
   "metadata": {},
   "outputs": [],
   "source": [
    "def stopwprds_removal(lst):\n",
    "    lst1=list()\n",
    "    for str in lst:\n",
    "        text_tokens = word_tokenize(str)\n",
    "        tokens_without_sw = [word for word in text_tokens if not word in STOPWORDS]\n",
    "        str_t = \" \".join(tokens_without_sw)\n",
    "        lst1.append(str_t)\n",
    " \n",
    "    return lst1"
   ]
  },
  {
   "cell_type": "code",
   "execution_count": 4,
   "id": "5c8fbc09",
   "metadata": {},
   "outputs": [],
   "source": [
    "def spl_chars_removal(lst):\n",
    "    lst1=list()\n",
    "    for element in lst:\n",
    "        str=\"\"\n",
    "        str = re.sub(\"[^0-9a-zA-Z]\",\" \",element)\n",
    "        lst1.append(str)\n",
    "    return lst1"
   ]
  },
  {
   "cell_type": "code",
   "execution_count": 5,
   "id": "644c39f2",
   "metadata": {},
   "outputs": [],
   "source": [
    "path = \"/home/shamim/Documents/MS_Life/CS839/project/dataset/\""
   ]
  },
  {
   "cell_type": "code",
   "execution_count": 6,
   "id": "987718ea",
   "metadata": {},
   "outputs": [],
   "source": [
    "train_df = pd.read_csv(path+\"new_train.csv\")\n",
    "test_df = pd.read_csv(path+\"new_test.csv\")"
   ]
  },
  {
   "cell_type": "code",
   "execution_count": 7,
   "id": "f36f00c1",
   "metadata": {},
   "outputs": [
    {
     "data": {
      "text/html": [
       "<div>\n",
       "<style scoped>\n",
       "    .dataframe tbody tr th:only-of-type {\n",
       "        vertical-align: middle;\n",
       "    }\n",
       "\n",
       "    .dataframe tbody tr th {\n",
       "        vertical-align: top;\n",
       "    }\n",
       "\n",
       "    .dataframe thead th {\n",
       "        text-align: right;\n",
       "    }\n",
       "</style>\n",
       "<table border=\"1\" class=\"dataframe\">\n",
       "  <thead>\n",
       "    <tr style=\"text-align: right;\">\n",
       "      <th></th>\n",
       "      <th>Unnamed: 0</th>\n",
       "      <th>id</th>\n",
       "      <th>url</th>\n",
       "      <th>question</th>\n",
       "      <th>answer</th>\n",
       "      <th>long_answer</th>\n",
       "      <th>final_answer</th>\n",
       "    </tr>\n",
       "  </thead>\n",
       "  <tbody>\n",
       "    <tr>\n",
       "      <th>0</th>\n",
       "      <td>0</td>\n",
       "      <td>0</td>\n",
       "      <td>http://www.freebase.com/view/en/justin_bieber</td>\n",
       "      <td>what is the name of justin bieber brother?</td>\n",
       "      <td>Jazmyn Bieber</td>\n",
       "      <td>Justin Bieber has three half-siblings, includi...</td>\n",
       "      <td>Jazmyn Bieber Justin Bieber has three half-sib...</td>\n",
       "    </tr>\n",
       "    <tr>\n",
       "      <th>1</th>\n",
       "      <td>1</td>\n",
       "      <td>1</td>\n",
       "      <td>http://www.freebase.com/view/en/natalie_portman</td>\n",
       "      <td>what character did natalie portman play in sta...</td>\n",
       "      <td>Padmé Amidala</td>\n",
       "      <td>Padme Amidala</td>\n",
       "      <td>Padmé Amidala Padme Amidala</td>\n",
       "    </tr>\n",
       "    <tr>\n",
       "      <th>2</th>\n",
       "      <td>2</td>\n",
       "      <td>2</td>\n",
       "      <td>http://www.freebase.com/view/en/selena_gomez</td>\n",
       "      <td>what state does selena gomez?</td>\n",
       "      <td>New York City</td>\n",
       "      <td>Selena Gomez is an actress, singer and songwri...</td>\n",
       "      <td>New York City Selena Gomez is an actress, sing...</td>\n",
       "    </tr>\n",
       "    <tr>\n",
       "      <th>3</th>\n",
       "      <td>3</td>\n",
       "      <td>3</td>\n",
       "      <td>http://www.freebase.com/view/en/grand_bahama</td>\n",
       "      <td>what country is the grand bahama island in?</td>\n",
       "      <td>Bahamas</td>\n",
       "      <td>The Grand Bahama Island is a part of the Bahamas.</td>\n",
       "      <td>Bahamas The Grand Bahama Island is a part of t...</td>\n",
       "    </tr>\n",
       "    <tr>\n",
       "      <th>4</th>\n",
       "      <td>4</td>\n",
       "      <td>4</td>\n",
       "      <td>http://www.freebase.com/view/en/the_bahamas</td>\n",
       "      <td>what kind of money to take to bahamas?</td>\n",
       "      <td>Bahamian dollar</td>\n",
       "      <td>This question is incomplete. Please provide a ...</td>\n",
       "      <td>Bahamian dollar This question is incomplete. P...</td>\n",
       "    </tr>\n",
       "  </tbody>\n",
       "</table>\n",
       "</div>"
      ],
      "text/plain": [
       "   Unnamed: 0  id                                              url   \n",
       "0           0   0    http://www.freebase.com/view/en/justin_bieber  \\\n",
       "1           1   1  http://www.freebase.com/view/en/natalie_portman   \n",
       "2           2   2     http://www.freebase.com/view/en/selena_gomez   \n",
       "3           3   3     http://www.freebase.com/view/en/grand_bahama   \n",
       "4           4   4      http://www.freebase.com/view/en/the_bahamas   \n",
       "\n",
       "                                            question           answer   \n",
       "0         what is the name of justin bieber brother?    Jazmyn Bieber  \\\n",
       "1  what character did natalie portman play in sta...    Padmé Amidala   \n",
       "2                      what state does selena gomez?    New York City   \n",
       "3        what country is the grand bahama island in?          Bahamas   \n",
       "4             what kind of money to take to bahamas?  Bahamian dollar   \n",
       "\n",
       "                                         long_answer   \n",
       "0  Justin Bieber has three half-siblings, includi...  \\\n",
       "1                                      Padme Amidala   \n",
       "2  Selena Gomez is an actress, singer and songwri...   \n",
       "3  The Grand Bahama Island is a part of the Bahamas.   \n",
       "4  This question is incomplete. Please provide a ...   \n",
       "\n",
       "                                        final_answer  \n",
       "0  Jazmyn Bieber Justin Bieber has three half-sib...  \n",
       "1                        Padmé Amidala Padme Amidala  \n",
       "2  New York City Selena Gomez is an actress, sing...  \n",
       "3  Bahamas The Grand Bahama Island is a part of t...  \n",
       "4  Bahamian dollar This question is incomplete. P...  "
      ]
     },
     "execution_count": 7,
     "metadata": {},
     "output_type": "execute_result"
    }
   ],
   "source": [
    "train_df.head()"
   ]
  },
  {
   "cell_type": "code",
   "execution_count": 8,
   "id": "78a6e4da",
   "metadata": {},
   "outputs": [
    {
     "data": {
      "text/html": [
       "<div>\n",
       "<style scoped>\n",
       "    .dataframe tbody tr th:only-of-type {\n",
       "        vertical-align: middle;\n",
       "    }\n",
       "\n",
       "    .dataframe tbody tr th {\n",
       "        vertical-align: top;\n",
       "    }\n",
       "\n",
       "    .dataframe thead th {\n",
       "        text-align: right;\n",
       "    }\n",
       "</style>\n",
       "<table border=\"1\" class=\"dataframe\">\n",
       "  <thead>\n",
       "    <tr style=\"text-align: right;\">\n",
       "      <th></th>\n",
       "      <th>Unnamed: 0</th>\n",
       "      <th>id</th>\n",
       "      <th>url</th>\n",
       "      <th>question</th>\n",
       "      <th>answer</th>\n",
       "      <th>long_answer</th>\n",
       "      <th>final_answer</th>\n",
       "    </tr>\n",
       "  </thead>\n",
       "  <tbody>\n",
       "    <tr>\n",
       "      <th>0</th>\n",
       "      <td>0</td>\n",
       "      <td>0</td>\n",
       "      <td>http://www.freebase.com/view/en/jamaica</td>\n",
       "      <td>what does jamaican people speak?</td>\n",
       "      <td>Jamaican Creole English Language</td>\n",
       "      <td>Jamaica has its own dialect known as \"Jamiean\"...</td>\n",
       "      <td>Jamaican Creole English Language Jamaica has i...</td>\n",
       "    </tr>\n",
       "    <tr>\n",
       "      <th>1</th>\n",
       "      <td>1</td>\n",
       "      <td>1</td>\n",
       "      <td>http://www.freebase.com/view/en/james_k_polk</td>\n",
       "      <td>what did james k polk do before he was president?</td>\n",
       "      <td>Lawyer</td>\n",
       "      <td>James K. Polk was a lawyer and politician who ...</td>\n",
       "      <td>Lawyer James K. Polk was a lawyer and politici...</td>\n",
       "    </tr>\n",
       "    <tr>\n",
       "      <th>2</th>\n",
       "      <td>2</td>\n",
       "      <td>2</td>\n",
       "      <td>http://www.freebase.com/view/en/oregon_ducks</td>\n",
       "      <td>what is the oregon ducks 2012 football schedule?</td>\n",
       "      <td>University of Oregon</td>\n",
       "      <td>The Oregon Ducks played at USC on September 7t...</td>\n",
       "      <td>University of Oregon The Oregon Ducks played a...</td>\n",
       "    </tr>\n",
       "    <tr>\n",
       "      <th>3</th>\n",
       "      <td>3</td>\n",
       "      <td>3</td>\n",
       "      <td>http://www.freebase.com/view/en/ken_barlow</td>\n",
       "      <td>who plays ken barlow in coronation street?</td>\n",
       "      <td>Tony Warren</td>\n",
       "      <td>William Roache has played the role of Ken Barl...</td>\n",
       "      <td>Tony Warren William Roache has played the role...</td>\n",
       "    </tr>\n",
       "    <tr>\n",
       "      <th>4</th>\n",
       "      <td>4</td>\n",
       "      <td>4</td>\n",
       "      <td>http://www.freebase.com/view/en/chiune_sugihara</td>\n",
       "      <td>what happened after mr. sugihara died?</td>\n",
       "      <td>Yaotsu</td>\n",
       "      <td>After Harukichi Sugiura passed away in 1935, h...</td>\n",
       "      <td>Yaotsu After Harukichi Sugiura passed away in ...</td>\n",
       "    </tr>\n",
       "  </tbody>\n",
       "</table>\n",
       "</div>"
      ],
      "text/plain": [
       "   Unnamed: 0  id                                              url   \n",
       "0           0   0          http://www.freebase.com/view/en/jamaica  \\\n",
       "1           1   1     http://www.freebase.com/view/en/james_k_polk   \n",
       "2           2   2     http://www.freebase.com/view/en/oregon_ducks   \n",
       "3           3   3       http://www.freebase.com/view/en/ken_barlow   \n",
       "4           4   4  http://www.freebase.com/view/en/chiune_sugihara   \n",
       "\n",
       "                                            question   \n",
       "0                   what does jamaican people speak?  \\\n",
       "1  what did james k polk do before he was president?   \n",
       "2   what is the oregon ducks 2012 football schedule?   \n",
       "3         who plays ken barlow in coronation street?   \n",
       "4             what happened after mr. sugihara died?   \n",
       "\n",
       "                             answer   \n",
       "0  Jamaican Creole English Language  \\\n",
       "1                            Lawyer   \n",
       "2              University of Oregon   \n",
       "3                       Tony Warren   \n",
       "4                            Yaotsu   \n",
       "\n",
       "                                         long_answer   \n",
       "0  Jamaica has its own dialect known as \"Jamiean\"...  \\\n",
       "1  James K. Polk was a lawyer and politician who ...   \n",
       "2  The Oregon Ducks played at USC on September 7t...   \n",
       "3  William Roache has played the role of Ken Barl...   \n",
       "4  After Harukichi Sugiura passed away in 1935, h...   \n",
       "\n",
       "                                        final_answer  \n",
       "0  Jamaican Creole English Language Jamaica has i...  \n",
       "1  Lawyer James K. Polk was a lawyer and politici...  \n",
       "2  University of Oregon The Oregon Ducks played a...  \n",
       "3  Tony Warren William Roache has played the role...  \n",
       "4  Yaotsu After Harukichi Sugiura passed away in ...  "
      ]
     },
     "execution_count": 8,
     "metadata": {},
     "output_type": "execute_result"
    }
   ],
   "source": [
    "test_df.head()"
   ]
  },
  {
   "cell_type": "code",
   "execution_count": 27,
   "id": "87b69bc9",
   "metadata": {},
   "outputs": [],
   "source": [
    "removed_special_char = spl_chars_removal(test_df[\"final_answer\"])\n",
    "stop_words_removed = stopwprds_removal(removed_special_char)\n",
    "corpus = stemming(stop_words_removed)\n",
    "tokenized_corpus = [doc.split(\" \") for doc in corpus]"
   ]
  },
  {
   "cell_type": "code",
   "execution_count": 38,
   "id": "7d416814",
   "metadata": {},
   "outputs": [],
   "source": [
    "bm25 = BM25Okapi(tokenized_corpus)"
   ]
  },
  {
   "cell_type": "code",
   "execution_count": 39,
   "id": "8180fab8",
   "metadata": {},
   "outputs": [],
   "source": [
    "def prepare_Qrels(size):\n",
    "    true_q_ids = [str(i) for i in range(size)]\n",
    "    true_doc_ids = [[str(i)] for i in range(size)]\n",
    "    true_scores = [[100] for _ in range(size)]\n",
    "    qrels = Qrels()\n",
    "    qrels.add_multi(q_ids=true_q_ids,doc_ids=true_doc_ids,scores=true_scores)\n",
    "    return qrels"
   ]
  },
  {
   "cell_type": "code",
   "execution_count": 40,
   "id": "99a8b66f",
   "metadata": {},
   "outputs": [],
   "source": [
    "qrels = prepare_Qrels(len(test_df))"
   ]
  },
  {
   "cell_type": "code",
   "execution_count": 41,
   "id": "b9fae6f0",
   "metadata": {},
   "outputs": [],
   "source": [
    "top_n = 5\n",
    "run = Run()\n",
    "\n",
    "predicted_q_ids = []\n",
    "predicted_doc_ids = []\n",
    "predicted_scores = []\n",
    "\n",
    "for i,q in enumerate(test_df[\"question\"]):\n",
    "    removed_special_char = spl_chars_removal([q])\n",
    "    stop_words_removed = stopwprds_removal(removed_special_char)\n",
    "    stemmed_query = stemming(stop_words_removed)\n",
    "    tokenized_query = stemmed_query[0].split(\" \")\n",
    "    predicted_q_ids.append(str(i))\n",
    "    \n",
    "    docs = bm25.get_top_n(tokenized_query, corpus, n=top_n)\n",
    "    predicted_doc_ids.append([str(corpus.index(d)) for d in docs])\n",
    "\n",
    "    doc_scores = bm25.get_scores(tokenized_query) # return scores for each document in the corpus\n",
    "    sorted_score = np.sort(doc_scores)[::-1][:top_n]\n",
    "    predicted_scores.append(sorted_score.tolist())\n",
    "    \n",
    "run.add_multi(q_ids=predicted_q_ids, doc_ids=predicted_doc_ids, scores=predicted_scores)"
   ]
  },
  {
   "cell_type": "code",
   "execution_count": 32,
   "id": "345ebea4",
   "metadata": {},
   "outputs": [
    {
     "data": {
      "text/plain": [
       "{'map@5': 0.3889763779527559,\n",
       " 'mrr': 0.3889763779527559,\n",
       " 'ndcg@5': 0.4330061444011331,\n",
       " 'precision': 0.11318897637795274,\n",
       " 'recall': 0.5654527559055118}"
      ]
     },
     "execution_count": 32,
     "metadata": {},
     "output_type": "execute_result"
    }
   ],
   "source": [
    "#BM25L\n",
    "evaluate(qrels, run, [\"map@5\", \"mrr\", \"ndcg@5\", \"precision\", \"recall\"])"
   ]
  },
  {
   "cell_type": "code",
   "execution_count": 37,
   "id": "41674dd2",
   "metadata": {},
   "outputs": [
    {
     "data": {
      "text/plain": [
       "{'map@5': 0.5513533464566929,\n",
       " 'mrr': 0.5513533464566929,\n",
       " 'ndcg@5': 0.5823280250817667,\n",
       " 'precision': 0.13551509186351707,\n",
       " 'recall': 0.6747047244094488}"
      ]
     },
     "execution_count": 37,
     "metadata": {},
     "output_type": "execute_result"
    }
   ],
   "source": [
    "#BM25Plus\n",
    "evaluate(qrels, run, [\"map@5\", \"mrr\", \"ndcg@5\", \"precision\", \"recall\"])"
   ]
  },
  {
   "cell_type": "code",
   "execution_count": 42,
   "id": "74303ed7",
   "metadata": {},
   "outputs": [
    {
     "data": {
      "text/plain": [
       "{'map@5': 0.5505249343832022,\n",
       " 'mrr': 0.5505249343832022,\n",
       " 'ndcg@5': 0.5813440395989641,\n",
       " 'precision': 0.13521981627296586,\n",
       " 'recall': 0.6732283464566929}"
      ]
     },
     "execution_count": 42,
     "metadata": {},
     "output_type": "execute_result"
    }
   ],
   "source": [
    "#BM25OKAPI\n",
    "evaluate(qrels, run, [\"map@5\", \"mrr\", \"ndcg@5\", \"precision\", \"recall\"])"
   ]
  },
  {
   "cell_type": "code",
   "execution_count": 48,
   "id": "1d884bb6",
   "metadata": {},
   "outputs": [],
   "source": [
    "# run.mean_scores"
   ]
  },
  {
   "cell_type": "code",
   "execution_count": 24,
   "id": "5dcd5888",
   "metadata": {},
   "outputs": [],
   "source": [
    "# dict(run.scores)"
   ]
  },
  {
   "cell_type": "code",
   "execution_count": null,
   "id": "ed68af1a",
   "metadata": {},
   "outputs": [],
   "source": []
  }
 ],
 "metadata": {
  "kernelspec": {
   "display_name": "Python 3 (ipykernel)",
   "language": "python",
   "name": "python3"
  },
  "language_info": {
   "codemirror_mode": {
    "name": "ipython",
    "version": 3
   },
   "file_extension": ".py",
   "mimetype": "text/x-python",
   "name": "python",
   "nbconvert_exporter": "python",
   "pygments_lexer": "ipython3",
   "version": "3.10.12"
  }
 },
 "nbformat": 4,
 "nbformat_minor": 5
}
